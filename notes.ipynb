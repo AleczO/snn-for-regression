{
 "cells": [
  {
   "cell_type": "markdown",
   "id": "6ef18cb6",
   "metadata": {},
   "source": [
    "$$ \\mathcal{N} : \\mathbb{R}^{d_x} \\rightarrow \\mathbb{R}^{d_y} $$\n",
    "\n",
    "$$ \n",
    "\\begin{align*}\n",
    "\\mathbf{x} &\\mapsto \\mathcal{N}(\\mathbf{x}) = \\mathbf{h}^{(n_L)} \\circ \\dots  \\circ \\mathbf{h}^{(0)} = \\mathbf{y} \\\\\n",
    "\\mathbf{x} &\\mapsto \\mathcal{N}(\\mathbf{x}) = \\mathbf{h}^{(l)} \\circ \\dots \\circ \\mathbf{h}^{(0)} = \\mathbf{y} \\\\\n",
    "\\end{align*}\n",
    "$$\n",
    "\n",
    "$$ l = 1, \\dots , n_L $$\n",
    "\n",
    "<br>\n",
    "\n",
    "$$\n",
    "\\begin{align*}\n",
    "\\mathbf{h}^{(0)} &= \\mathbf{x} \\in \\mathbb{R}^{d_x} \\\\\n",
    "\\mathbf{h}^{(n_L)} &= \\mathbf{y} \\in \\mathbb{R}^{d_y}\n",
    "\\end{align*}\n",
    "$$\n",
    "\n",
    "\n",
    "$$\n",
    "\\begin{align*}\n",
    "\\mathbf{h}^{(l)} &= \\{ h_\\eta^{(l)}, \\eta = 1, \\dots , n_u \\} \\\\\n",
    "h_\\eta^{(l)} &= \\phi^{(l)}(\\mathbf{W}_\\eta^{(l)} \\mathbf{h}^{(l - 1)})\n",
    "\\end{align*}\n",
    "$$\n",
    "\n",
    "\n",
    "$l = 3, n_u = 3$\n",
    "$$\n",
    "\\begin{align*}\n",
    "\\mathbf{h}^{(3)} &= \\{ h_\\eta^{(l)}, \\eta = 1, 2, 3 \\}  \\\\\n",
    "                &= \\{ h_1^{(3)}, h_2^{(3)}, h_3^{(3)} \\} \\\\\n",
    "                &= \\{ \\phi^{(3)}(\\mathbf{W}_1^{(3)} \\mathbf{h}^{(2)}), \\phi^{(3)}(\\mathbf{W}_2^{(3)} \\mathbf{h}^{(2)}), \\phi^{(3)}(\\mathbf{W}_3^{(3)} \\mathbf{h}^{(2)}) \\}\n",
    "\\end{align*}\n",
    "$$\n",
    "\n",
    "<br>\n",
    "\n",
    "$$ \\mathbf{\\theta}_\\text{ANN} = \\{ \\mathbf{W}_\\eta^{(l)} \\} $$\n",
    "\n",
    "<br>\n",
    "\n",
    "$$ \\mathcal{N}(\\mathbf{x}) := \\mathcal{N}(\\mathbf{x}; \\mathbf{\\theta}) $$\n",
    "\n",
    "<br><br>\n",
    "\n",
    "\n",
    "$$\n",
    "\\begin{align*}\n",
    "\\mathbf{h}^{(l)}_t &= \\{ h_{\\eta, t}^{(l)}, \\eta = 1, \\dots , n_u \\ \\ t = 0, \\dots, T \\} \\\\\n",
    "h_{\\eta, t}^{(l)} &= \\phi^{(l)}(\\mathbf{W}_\\eta^{(l)} \\mathbf{h}_{t}^{(l - 1)})\n",
    "\\end{align*}\n",
    "$$\n"
   ]
  },
  {
   "cell_type": "markdown",
   "id": "dbbd6839",
   "metadata": {},
   "source": [
    "# Spiking Neural Networks"
   ]
  },
  {
   "cell_type": "markdown",
   "id": "c6323ca1",
   "metadata": {},
   "source": [
    "\n",
    "\n",
    "\n",
    "$$ \\phi^{(l)}_{\\text{spk}, t} =\n",
    "\\begin{cases}\n",
    "1, \\ \\ \\ \\ \\ \\ \\ \\ U^{(l)}_{\\eta, t} > U^{(l)}_{\\text{thr}, \\eta} \\\\\n",
    "0, \\ \\ \\ \\ \\ \\ \\ \\ U^{(l)}_{\\eta, t} < U^{(l)}_{\\text{thr}, \\eta}\n",
    "\\end{cases}\n",
    "$$\n",
    "<br>\n",
    "\n",
    "$$ U^{(l)}_{\\eta, t} = U^{(l)}_{\\eta} U^{(l)}_{\\eta, t - 1} + \\mathbf{W}^{(l)}_{\\eta} \\mathbf{h}_t^{(l - 1)} - \\phi^{(l)}_{\\text{spk}, t - 1} U^{(l)}_{\\text{thr}, \\eta} $$\n",
    "\n",
    "\n",
    "<br><br>\n",
    "\n",
    "\n",
    "\n",
    "\n",
    "$$ \\mathbf{\\theta}_{\\text{SNN}} = \\{ \\mathbf{W}_\\eta^{(l)}, \\Beta_\\eta^{(l)}, U_{\\text{thr}, \\eta}^{(l)} \\} $$"
   ]
  },
  {
   "cell_type": "markdown",
   "id": "4a276d33",
   "metadata": {},
   "source": []
  },
  {
   "cell_type": "markdown",
   "id": "eaf66bc1",
   "metadata": {},
   "source": [
    "\n",
    "\n",
    "$$ \\phi_\\text{surr}(x) = \\frac{1}{\\pi} \\arctan{(\\pi x)} $$\n",
    "\n",
    "$$ \\phi_\\text{surr}'(x) = \\bigg(\\frac{1}{\\pi} \\arctan{(\\pi x)}\\bigg)' (\\pi x)' = \\frac{1}{1 + (\\pi x)^2} $$"
   ]
  }
 ],
 "metadata": {
  "language_info": {
   "name": "python"
  }
 },
 "nbformat": 4,
 "nbformat_minor": 5
}
